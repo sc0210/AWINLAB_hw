{
 "cells": [
  {
   "attachments": {},
   "cell_type": "markdown",
   "metadata": {},
   "source": [
    "## Native solution for 0/1 knapsack problem"
   ]
  },
  {
   "cell_type": "code",
   "execution_count": 4,
   "metadata": {},
   "outputs": [],
   "source": [
    "# A naive recursive implementation of 0-1 Knapsack Problem\n",
    "  \n",
    "# Returns the maximum value that can be put in a knapsack of\n",
    "# capacity W\n",
    "def knapSack(W, wt, val, n):\n",
    "  \n",
    "    # Base Case\n",
    "    if n == 0 or W == 0 :\n",
    "        return 0\n",
    "  \n",
    "    # If weight of the nth item is more than Knapsack of capacity\n",
    "    # W, then this item cannot be included in the optimal solution\n",
    "    if (wt[n-1] > W):\n",
    "        return knapSack(W, wt, val, n-1)\n",
    "  \n",
    "    # return the maximum of two cases:\n",
    "    # (1) nth item included\n",
    "    # (2) not included\n",
    "    else:\n",
    "        return max(val[n-1] + knapSack(W-wt[n-1], wt, val, n-1),\n",
    "                   knapSack(W, wt, val, n-1))\n",
    "  \n",
    "# end of function knapSack\n",
    "  \n",
    "# To test above function\n",
    "val = [135, 139, 149, 150, 156, 163, 173, 184, 192, 201, 210, 214, 221, 229, 240]\n",
    "wt = [70, 73, 77, 80, 82, 87, 90, 94, 98, 106, 110, 113, 115, 118, 120]\n",
    "W = 750\n",
    "n = len(val)"
   ]
  },
  {
   "cell_type": "code",
   "execution_count": 7,
   "metadata": {},
   "outputs": [],
   "source": [
    "# A Dynamic Programming based Python \n",
    "# Program for 0-1 Knapsack problem\n",
    "# Returns the maximum value that can \n",
    "# be put in a knapsack of capacity W\n",
    "def knapSack(W, wt, val, n):\n",
    "    K = [[0 for x in range(W + 1)] for x in range(n + 1)]\n",
    "  \n",
    "    # Build table K[][] in bottom up manner\n",
    "    for i in range(n + 1):\n",
    "        for w in range(W + 1):\n",
    "            if i == 0 or w == 0:\n",
    "                K[i][w] = 0\n",
    "            elif wt[i-1] <= w:\n",
    "                K[i][w] = max(val[i-1] + K[i-1][w-wt[i-1]],  K[i-1][w])\n",
    "            else:\n",
    "                K[i][w] = K[i-1][w]\n",
    "  \n",
    "    return K[n][W]"
   ]
  },
  {
   "cell_type": "code",
   "execution_count": 8,
   "metadata": {},
   "outputs": [
    {
     "name": "stdout",
     "output_type": "stream",
     "text": [
      "CPU times: user 1 µs, sys: 1 µs, total: 2 µs\n",
      "Wall time: 2.86 µs\n"
     ]
    },
    {
     "data": {
      "text/plain": [
       "1458"
      ]
     },
     "execution_count": 8,
     "metadata": {},
     "output_type": "execute_result"
    }
   ],
   "source": [
    "%time\n",
    "knapSack(W, wt, val, n)"
   ]
  },
  {
   "attachments": {},
   "cell_type": "markdown",
   "metadata": {},
   "source": [
    "## Hill Climbling algo solve 0/1 knapsack problem"
   ]
  },
  {
   "cell_type": "code",
   "execution_count": 127,
   "metadata": {},
   "outputs": [
    {
     "data": {
      "text/plain": [
       "[1, 1, 0, 0, 0, 0, 1, 1, 1, 1]"
      ]
     },
     "execution_count": 127,
     "metadata": {},
     "output_type": "execute_result"
    }
   ],
   "source": [
    "dec_to_bin(783,10)"
   ]
  },
  {
   "cell_type": "code",
   "execution_count": 8,
   "metadata": {},
   "outputs": [
    {
     "name": "stdout",
     "output_type": "stream",
     "text": [
      "Best Solution: [1, 1, 1, 1, 0, 1, 1, 0, 1, 1, 1, 0, 1, 1, 0]\n",
      "Best Fitness: 0\n"
     ]
    }
   ],
   "source": [
    "import random\n",
    "\n",
    "# Define the problem instance\n",
    "val = [135, 139, 149, 150, 156, 163, 173, 184, 192, 201, 210, 214, 221, 229, 240]\n",
    "wt = [70, 73, 77, 80, 82, 87, 90, 94, 98, 106, 110, 113, 115, 118, 120]\n",
    "W = 750\n",
    "\n",
    "def dec_to_bin(dec_num, digits): # translate decimal number to binary (int)\n",
    "    quotient = dec_num\n",
    "    bin_num = []\n",
    "\n",
    "    if dec_num == 1 | 0:\n",
    "        bin_num.append(dec_num)\n",
    "        while(len(bin_num)!= digits):\n",
    "            bin_num.append(0)\n",
    "        return bin_num\n",
    "    \n",
    "    while(quotient > 0): \n",
    "        reminders = dec_num % 2 \n",
    "        quotient = (dec_num - reminders) // 2 \n",
    "        dec_num = quotient \n",
    "        bin_num.append(reminders)\n",
    "    while(len(bin_num)!= digits):\n",
    "        bin_num.append(0)\n",
    "\n",
    "    bin_num = bin_num[::-1]\n",
    "    return bin_num\n",
    "\n",
    "def fitness(solution): # return profits if weight restrain is satisfied (bool)\n",
    "    # Initialize the variable\n",
    "    total_wt, total_val = 0, 0\n",
    "\n",
    "    # Iteraterate through the input string to calculate the weights & profits\n",
    "    for idx in range(len(solution)):\n",
    "        if solution[idx] == 1:\n",
    "            total_wt += wt[idx] # sum the weight\n",
    "            total_val += val[idx] # sum the value\n",
    "\n",
    "    # If satisfy weight restrain, return the total_val\n",
    "    if total_wt <= W: \n",
    "        return total_val \n",
    "    # Otherwise, return 0\n",
    "    else:\n",
    "        return 0\n",
    "\n",
    "# Define the neighborhood function\n",
    "def get_neighbor(current_solution):\n",
    "    neighbor = current_solution.copy()\n",
    "    index = random.randint(0, len(current_solution)-1)\n",
    "    neighbor[index] = 1 - neighbor[index]\n",
    "    return neighbor\n",
    "\n",
    "def hill_climbing():\n",
    "    # Initialize the current solution\n",
    "    current_solution = [random.randint(0, 1) for _ in range(len(val))] \n",
    "    current_fitness = fitness(current_solution)\n",
    "\n",
    "    # Iterate until no better neighbor is found\n",
    "    while True:\n",
    "        # Get a neighbor solution\n",
    "        neighbor_solution = get_neighbor(current_solution)\n",
    "        neighbor_fitness = fitness(neighbor_solution)\n",
    "\n",
    "        # If the neighbor is better, update the current solution\n",
    "        if neighbor_fitness > current_fitness:\n",
    "            current_solution = neighbor_solution\n",
    "            current_fitness = neighbor_fitness\n",
    "        # Otherwise, terminate and return the best solution found\n",
    "        else:\n",
    "            return current_solution, current_fitness\n",
    "        \n",
    "best_solution, best_fitness = hill_climbing()\n",
    "\n",
    "# Print the results\n",
    "print(\"Best Solution:\", best_solution)\n",
    "print(\"Best Fitness:\", best_fitness)\n"
   ]
  },
  {
   "cell_type": "code",
   "execution_count": 41,
   "metadata": {},
   "outputs": [],
   "source": [
    "condition = True # Flag for while-loop\n",
    "db = [] # Store each iterateion solution\n",
    "index, temp = 0, 0 # Temporary variables\n",
    "while condition:\n",
    "    # First iterative of HC \n",
    "    best_solution, best_fitness = hill_climbing()\n",
    "\n",
    "    # Find optimonal solution, either equal or greater than the previous one\n",
    "    if best_fitness >= temp:\n",
    "        db.append(best_fitness)\n",
    "        temp = best_fitness\n",
    "        index += 1\n",
    "\n",
    "    # 500 iterations     \n",
    "    if index == 500:\n",
    "        condition = False"
   ]
  },
  {
   "cell_type": "code",
   "execution_count": 42,
   "metadata": {},
   "outputs": [
    {
     "data": {
      "image/png": "[encoded data removed]",
      "text/plain": [
       "<Figure size 1000x500 with 1 Axes>"
      ]
     },
     "metadata": {},
     "output_type": "display_data"
    }
   ],
   "source": [
    "import matplotlib.pyplot as plt\n",
    "\n",
    "plt.figure(figsize=(10, 5))\n",
    "plt.grid(color = 'gray', linestyle = '--', linewidth = 0.5)\n",
    "\n",
    "plt.xlabel('Iterations')\n",
    "plt.ylabel('Profits')\n",
    "plt.title('Hill climbing, HC ',size='23')\n",
    "\n",
    "plt.plot(db, label='Hill climbing Algo')\n",
    "plt.legend(loc='lower right')\n",
    "plt.savefig('./01_knapsack_graphs.png')\n",
    "\n",
    "plt.show()"
   ]
  },
  {
   "attachments": {},
   "cell_type": "markdown",
   "metadata": {},
   "source": [
    "# Simulated annealing solve"
   ]
  },
  {
   "cell_type": "code",
   "execution_count": null,
   "metadata": {},
   "outputs": [],
   "source": []
  }
 ],
 "metadata": {
  "kernelspec": {
   "display_name": "tf",
   "language": "python",
   "name": "python3"
  },
  "language_info": {
   "codemirror_mode": {
    "name": "ipython",
    "version": 3
   },
   "file_extension": ".py",
   "mimetype": "text/x-python",
   "name": "python",
   "nbconvert_exporter": "python",
   "pygments_lexer": "ipython3",
   "version": "3.8.13"
  },
  "orig_nbformat": 4
 },
 "nbformat": 4,
 "nbformat_minor": 2
}
